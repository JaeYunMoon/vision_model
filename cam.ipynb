{
 "cells": [
  {
   "cell_type": "code",
   "execution_count": 1,
   "metadata": {},
   "outputs": [],
   "source": [
    "import torch\n",
    "from torchvision import models\n",
    "from torchvision import datasets\n",
    "from torchvision import transforms\n",
    "from torch.utils.data import DataLoader\n",
    "from torch import optim\n",
    "from torch import nn\n",
    "from torch.nn import functional as F\n",
    "\n",
    "\n",
    "import matplotlib.pyplot as plt\n",
    "import numpy as np"
   ]
  },
  {
   "cell_type": "code",
   "execution_count": 2,
   "metadata": {},
   "outputs": [],
   "source": [
    "class Model(nn.Module):\n",
    "    def __init__(self, input_channel, label_num, model_name, input_size = 224, batchnorm = False):\n",
    "        super(Model,self).__init__()\n",
    "        \n",
    "\n",
    "        self.conv1 = make_conv(model_name[1],3,batchnorm) \n",
    "        self.conv2 = make_conv(model_name[2],64,batchnorm)\n",
    "        self.conv3 = make_conv(model_name[3],128,batchnorm)\n",
    "        self.conv4 = make_conv(model_name[4],256,batchnorm)\n",
    "        self.conv5 = make_conv(model_name[5],512,batchnorm)\n",
    "\n",
    "        self.fc_layer = make_fc(input_size,label_num)\n",
    "        \n",
    "    def forward(self,x):\n",
    "        x = self.conv1(x)\n",
    "        x = self.conv2(x)\n",
    "        x = self.conv3(x)\n",
    "        x = self.conv4(x)\n",
    "        x = self.conv5(x)\n",
    "        x = x.view(x.size(0), -1)\n",
    "        x = self.fc_layer(x)\n",
    "        return x\n",
    "\n",
    "vgg11 = {1:[64],2:[128],3:[256,256],4:[512,512],5:[512,512]}\n",
    "vgg13 = {1:[64,64],2:[128,128],3:[256,256],4:[512,512],5:[512,512]}\n",
    "vgg16 = {1:[64,64],2:[128,128],3:[256,256,256],4:[512,512,512],5:[512,512,512]}\n",
    "vgg19 = {1:[64,64],2:[128,128],3:[256,256,256,256],4:[512,512,512,512],5:[512,512,512,512]}\n",
    "\n",
    "def make_conv(list_conv,input_channels,batchnorm=False):\n",
    "    layers = []\n",
    "    in_planes = input_channels\n",
    "    for value in list_conv:\n",
    "        if batchnorm == False: \n",
    "            layers.append(nn.Conv2d(in_planes, value, kernel_size=3, padding=1,stride =1 ))\n",
    "            layers.append(nn.ReLU())\n",
    "            in_planes = value\n",
    "        else : \n",
    "            layers.append(nn.Conv2d(in_planes, value, kernel_size=3, padding=1,stride =1 ))\n",
    "            #layers.append(nn.BatchNorm2d())# 논문에는 없지만 개선을 위해 추가 \n",
    "            layers.append(nn.ReLU())\n",
    "            in_planes = value\n",
    "    layers.append(nn.MaxPool2d(kernel_size=2, stride=2))\n",
    "    return nn.Sequential(*layers)\n",
    "\n",
    "def make_fc(input_size,label_num):\n",
    "    layers = []\n",
    "\n",
    "    if input_size == 224: \n",
    "        layers.append(nn.Linear(512*7*7, 4096))\n",
    "    elif input_size == 32: \n",
    "        layers.append(nn.Linear(512*1*1, 4096))\n",
    "    else :\n",
    "        pass \n",
    "    layers.append(nn.ReLU())\n",
    "    layers.append(nn.Dropout(0.5))\n",
    "    layers.append(nn.Linear(4096,4096))\n",
    "    layers.append(nn.ReLU())\n",
    "    layers.append(nn.Dropout(0.5))\n",
    "    layers.append(nn.Linear(4096,1000))\n",
    "    layers.append(nn.ReLU())\n",
    "    layers.append(nn.Dropout(0.5))\n",
    "    layers.append(nn.Linear(1000, label_num))\n",
    "\n",
    "    return nn.Sequential(*layers)\n"
   ]
  },
  {
   "cell_type": "code",
   "execution_count": 3,
   "metadata": {},
   "outputs": [
    {
     "data": {
      "text/plain": [
       "Model(\n",
       "  (conv1): Sequential(\n",
       "    (0): Conv2d(3, 64, kernel_size=(3, 3), stride=(1, 1), padding=(1, 1))\n",
       "    (1): ReLU()\n",
       "    (2): Conv2d(64, 64, kernel_size=(3, 3), stride=(1, 1), padding=(1, 1))\n",
       "    (3): ReLU()\n",
       "    (4): MaxPool2d(kernel_size=2, stride=2, padding=0, dilation=1, ceil_mode=False)\n",
       "  )\n",
       "  (conv2): Sequential(\n",
       "    (0): Conv2d(64, 128, kernel_size=(3, 3), stride=(1, 1), padding=(1, 1))\n",
       "    (1): ReLU()\n",
       "    (2): Conv2d(128, 128, kernel_size=(3, 3), stride=(1, 1), padding=(1, 1))\n",
       "    (3): ReLU()\n",
       "    (4): MaxPool2d(kernel_size=2, stride=2, padding=0, dilation=1, ceil_mode=False)\n",
       "  )\n",
       "  (conv3): Sequential(\n",
       "    (0): Conv2d(128, 256, kernel_size=(3, 3), stride=(1, 1), padding=(1, 1))\n",
       "    (1): ReLU()\n",
       "    (2): Conv2d(256, 256, kernel_size=(3, 3), stride=(1, 1), padding=(1, 1))\n",
       "    (3): ReLU()\n",
       "    (4): Conv2d(256, 256, kernel_size=(3, 3), stride=(1, 1), padding=(1, 1))\n",
       "    (5): ReLU()\n",
       "    (6): MaxPool2d(kernel_size=2, stride=2, padding=0, dilation=1, ceil_mode=False)\n",
       "  )\n",
       "  (conv4): Sequential(\n",
       "    (0): Conv2d(256, 512, kernel_size=(3, 3), stride=(1, 1), padding=(1, 1))\n",
       "    (1): ReLU()\n",
       "    (2): Conv2d(512, 512, kernel_size=(3, 3), stride=(1, 1), padding=(1, 1))\n",
       "    (3): ReLU()\n",
       "    (4): Conv2d(512, 512, kernel_size=(3, 3), stride=(1, 1), padding=(1, 1))\n",
       "    (5): ReLU()\n",
       "    (6): MaxPool2d(kernel_size=2, stride=2, padding=0, dilation=1, ceil_mode=False)\n",
       "  )\n",
       "  (conv5): Sequential(\n",
       "    (0): Conv2d(512, 512, kernel_size=(3, 3), stride=(1, 1), padding=(1, 1))\n",
       "    (1): ReLU()\n",
       "    (2): Conv2d(512, 512, kernel_size=(3, 3), stride=(1, 1), padding=(1, 1))\n",
       "    (3): ReLU()\n",
       "    (4): Conv2d(512, 512, kernel_size=(3, 3), stride=(1, 1), padding=(1, 1))\n",
       "    (5): ReLU()\n",
       "    (6): MaxPool2d(kernel_size=2, stride=2, padding=0, dilation=1, ceil_mode=False)\n",
       "  )\n",
       "  (fc_layer): Sequential(\n",
       "    (0): Linear(in_features=25088, out_features=4096, bias=True)\n",
       "    (1): ReLU()\n",
       "    (2): Dropout(p=0.5, inplace=False)\n",
       "    (3): Linear(in_features=4096, out_features=4096, bias=True)\n",
       "    (4): ReLU()\n",
       "    (5): Dropout(p=0.5, inplace=False)\n",
       "    (6): Linear(in_features=4096, out_features=1000, bias=True)\n",
       "    (7): ReLU()\n",
       "    (8): Dropout(p=0.5, inplace=False)\n",
       "    (9): Linear(in_features=1000, out_features=10, bias=True)\n",
       "  )\n",
       ")"
      ]
     },
     "execution_count": 3,
     "metadata": {},
     "output_type": "execute_result"
    }
   ],
   "source": [
    "\n",
    "device = 'cuda' if torch.cuda.is_available() else 'cpu'\n",
    "\n",
    "net = torch.load('../VGG/weight_2022-09-29-02vgg16_cifar10_5.pt')\n",
    "net = net.to(device)\n",
    "net.eval()"
   ]
  },
  {
   "cell_type": "code",
   "execution_count": 4,
   "metadata": {},
   "outputs": [
    {
     "data": {
      "image/png": "[encoded data removed]",
      "text/plain": [
       "<PIL.JpegImagePlugin.JpegImageFile image mode=RGB size=288x140>"
      ]
     },
     "execution_count": 4,
     "metadata": {},
     "output_type": "execute_result"
    }
   ],
   "source": [
    "import PIL\n",
    "img_dir = '../Car_data/car_ims'\n",
    "img_name = '000096.jpg'\n",
    "img_path = os.path.join(img_dir, img_name)\n",
    "\n",
    "pil_img = PIL.Image.open(img_path)\n",
    "pil_img\n"
   ]
  },
  {
   "cell_type": "code",
   "execution_count": 5,
   "metadata": {},
   "outputs": [
    {
     "name": "stdout",
     "output_type": "stream",
     "text": [
      "(140, 288, 3)\n"
     ]
    }
   ],
   "source": [
    "pil_img_size = np.array(pil_img).shape\n",
    "print(pil_img_size)\n",
    "\n",
    "def normalize(tensor, mean, std):\n",
    "    if not tensor.ndimension() == 4:\n",
    "        raise TypeError('tensor should be 4D')\n",
    "\n",
    "    mean = torch.FloatTensor(mean).view(1, 3, 1, 1).expand_as(tensor).to(tensor.device)\n",
    "    std = torch.FloatTensor(std).view(1, 3, 1, 1).expand_as(tensor).to(tensor.device)\n",
    "\n",
    "    return tensor.sub(mean).div(std)"
   ]
  },
  {
   "cell_type": "code",
   "execution_count": 6,
   "metadata": {},
   "outputs": [],
   "source": [
    "class Normalize(object):\n",
    "    def __init__(self, mean, std):\n",
    "        self.mean = mean\n",
    "        self.std = std\n",
    "\n",
    "    def __call__(self, tensor):\n",
    "        return self.do(tensor)\n",
    "    \n",
    "    def do(self, tensor):\n",
    "        return normalize(tensor, self.mean, self.std)\n",
    "    \n",
    "    def undo(self, tensor):\n",
    "        return denormalize(tensor, self.mean, self.std)\n",
    "\n",
    "    def __repr__(self):\n",
    "        return self.__class__.__name__ + '(mean={0}, std={1})'.format(self.mean, self.std)"
   ]
  },
  {
   "cell_type": "code",
   "execution_count": 7,
   "metadata": {},
   "outputs": [
    {
     "name": "stderr",
     "output_type": "stream",
     "text": [
      "C:\\Users\\mjy22\\AppData\\Local\\Temp\\ipykernel_11836\\3398826168.py:2: UserWarning: The given NumPy array is not writable, and PyTorch does not support non-writable tensors. This means writing to this tensor will result in undefined behavior. You may want to copy the array to protect its data or make it writable before converting it to a tensor. This type of warning will be suppressed for the rest of this program. (Triggered internally at  C:\\cb\\pytorch_1000000000000\\work\\torch\\csrc\\utils\\tensor_numpy.cpp:178.)\n",
      "  torch_img = torch.from_numpy(np.asarray(pil_img)).permute(2, 0, 1).unsqueeze(0).float().div(255).cuda()\n"
     ]
    },
    {
     "name": "stdout",
     "output_type": "stream",
     "text": [
      "tensor([[[[2.2489, 2.2489, 2.2489,  ..., 2.2489, 2.2489, 2.2489],\n",
      "          [2.2489, 2.2489, 2.2489,  ..., 2.2489, 2.2489, 2.2489],\n",
      "          [2.2489, 2.2489, 2.2489,  ..., 2.2489, 2.2489, 2.2489],\n",
      "          ...,\n",
      "          [2.2489, 2.2489, 2.2489,  ..., 2.2489, 2.2489, 2.2489],\n",
      "          [2.2489, 2.2489, 2.2489,  ..., 2.2489, 2.2489, 2.2489],\n",
      "          [2.2489, 2.2489, 2.2489,  ..., 2.2489, 2.2489, 2.2489]],\n",
      "\n",
      "         [[2.4286, 2.4286, 2.4286,  ..., 2.4286, 2.4286, 2.4286],\n",
      "          [2.4286, 2.4286, 2.4286,  ..., 2.4286, 2.4286, 2.4286],\n",
      "          [2.4286, 2.4286, 2.4286,  ..., 2.4286, 2.4286, 2.4286],\n",
      "          ...,\n",
      "          [2.4286, 2.4286, 2.4286,  ..., 2.4286, 2.4286, 2.4286],\n",
      "          [2.4286, 2.4286, 2.4286,  ..., 2.4286, 2.4286, 2.4286],\n",
      "          [2.4286, 2.4286, 2.4286,  ..., 2.4286, 2.4286, 2.4286]],\n",
      "\n",
      "         [[2.6400, 2.6400, 2.6400,  ..., 2.6400, 2.6400, 2.6400],\n",
      "          [2.6400, 2.6400, 2.6400,  ..., 2.6400, 2.6400, 2.6400],\n",
      "          [2.6400, 2.6400, 2.6400,  ..., 2.6400, 2.6400, 2.6400],\n",
      "          ...,\n",
      "          [2.6400, 2.6400, 2.6400,  ..., 2.6400, 2.6400, 2.6400],\n",
      "          [2.6400, 2.6400, 2.6400,  ..., 2.6400, 2.6400, 2.6400],\n",
      "          [2.6400, 2.6400, 2.6400,  ..., 2.6400, 2.6400, 2.6400]]]],\n",
      "       device='cuda:0')\n"
     ]
    }
   ],
   "source": [
    "normalizer = Normalize(mean=[0.485, 0.456, 0.406], std=[0.229, 0.224, 0.225])\n",
    "torch_img = torch.from_numpy(np.asarray(pil_img)).permute(2, 0, 1).unsqueeze(0).float().div(255).cuda()\n",
    "torch_img = F.interpolate(torch_img, size=(224, 224), mode='bilinear', align_corners=False) # (1, 3, 224, 224)\n",
    "normed_torch_img = normalizer(torch_img) # (1, 3, 224, 224)\n",
    "\n",
    "print(normed_torch_img)\n"
   ]
  },
  {
   "cell_type": "code",
   "execution_count": 16,
   "metadata": {},
   "outputs": [
    {
     "name": "stdout",
     "output_type": "stream",
     "text": [
      "결과 저장 위치:  ./2022-09-29-23\n"
     ]
    }
   ],
   "source": [
    "import datetime\n",
    "import shutil\n",
    "current_time = datetime.datetime.now() + datetime.timedelta(hours= 9)\n",
    "current_time = current_time.strftime('%Y-%m-%d-%H')\n",
    "\n",
    "saved_loc = os.path.join('./', current_time)\n",
    "if os.path.exists(saved_loc):\n",
    "    shutil.rmtree(saved_loc)\n",
    "os.mkdir(saved_loc)\n",
    "\n",
    "print(\"결과 저장 위치: \", saved_loc)"
   ]
  },
  {
   "cell_type": "code",
   "execution_count": 17,
   "metadata": {},
   "outputs": [],
   "source": [
    "from torch.autograd import Function\n",
    "\n",
    "\n",
    "class GuidedBackpropReLU(Function):\n",
    "    @staticmethod\n",
    "    def forward(self, input_img):\n",
    "        # input image 기준으로 양수인 부분만 1로 만드는 positive_mask 생성\n",
    "        positive_mask = (input_img > 0).type_as(input_img)\n",
    "        \n",
    "        # torch.addcmul(input, tensor1, tensor2) => output = input + tensor1 x tensor 2\n",
    "        # input image와 동일한 사이즈의 torch.zeros를 만든 뒤, input image와 positive_mask를 곱해서 output 생성\n",
    "        output = torch.addcmul(torch.zeros(input_img.size()).type_as(input_img), input_img, positive_mask)\n",
    "        \n",
    "        # backward에서 사용될 forward의 input이나 output을 저장\n",
    "        self.save_for_backward(input_img, output)\n",
    "        return output\n",
    "\n",
    "    @staticmethod\n",
    "    def backward(self, grad_output):\n",
    "        \n",
    "        # forward에서 저장된 saved tensor를 불러오기\n",
    "        input_img, output = self.saved_tensors\n",
    "        grad_input = None\n",
    "\n",
    "        # input image 기준으로 양수인 부분만 1로 만드는 positive_mask 생성\n",
    "        positive_mask_1 = (input_img > 0).type_as(grad_output)\n",
    "        \n",
    "        # 모델의 결과가 양수인 부분만 1로 만드는 positive_mask 생성\n",
    "        positive_mask_2 = (grad_output > 0).type_as(grad_output)\n",
    "        \n",
    "        # 먼저 모델의 결과와 positive_mask_1과 곱해주고,\n",
    "        # 다음으로는 positive_mask_2와 곱해줘서 \n",
    "        # 모델의 결과가 양수이면서 input image가 양수인 부분만 남도록 만들어줌\n",
    "        grad_input = torch.addcmul(torch.zeros(input_img.size()).type_as(input_img),\n",
    "                                   torch.addcmul(torch.zeros(input_img.size()).type_as(input_img), grad_output,\n",
    "                                                 positive_mask_1), positive_mask_2)\n",
    "        return grad_input"
   ]
  },
  {
   "cell_type": "code",
   "execution_count": 18,
   "metadata": {},
   "outputs": [],
   "source": [
    "class GuidedBackpropReLUModel:\n",
    "    def __init__(self, model, use_cuda):\n",
    "        self.model = model\n",
    "        self.model.eval()\n",
    "        self.cuda = use_cuda\n",
    "        if self.cuda:\n",
    "            self.model = model.cuda()\n",
    "\n",
    "        def recursive_relu_apply(module_top):\n",
    "            for idx, module in module_top._modules.items():\n",
    "                recursive_relu_apply(module)\n",
    "                if module.__class__.__name__ == 'ReLU':\n",
    "                    module_top._modules[idx] = GuidedBackpropReLU.apply\n",
    "\n",
    "        # replace ReLU with GuidedBackpropReLU\n",
    "        recursive_relu_apply(self.model)\n",
    "\n",
    "    def forward(self, input_img):\n",
    "        return self.model(input_img)\n",
    "\n",
    "    def __call__(self, input_img, target_category=None):\n",
    "        if self.cuda:\n",
    "            input_img = input_img.cuda()\n",
    "\n",
    "        input_img = input_img.requires_grad_(True)\n",
    "\n",
    "        output = self.forward(input_img)\n",
    "\n",
    "        if target_category is None:\n",
    "            target_category = np.argmax(output.cpu().data.numpy())\n",
    "\n",
    "        one_hot = np.zeros((1, output.size()[-1]), dtype=np.float32)\n",
    "        one_hot[0][target_category] = 1\n",
    "        one_hot = torch.from_numpy(one_hot).requires_grad_(True)\n",
    "        if self.cuda:\n",
    "            one_hot = one_hot.cuda()\n",
    "\n",
    "        one_hot = torch.sum(one_hot * output)\n",
    "        # 모델이 예측한 결과값을 기준으로 backward 진행\n",
    "        one_hot.backward(retain_graph=True)\n",
    "\n",
    "        # input image의 gradient를 저장\n",
    "        output = input_img.grad.cpu().data.numpy()\n",
    "        output = output[0, :, :, :]\n",
    "        output = output.transpose((1, 2, 0))\n",
    "        return output"
   ]
  },
  {
   "cell_type": "code",
   "execution_count": 19,
   "metadata": {},
   "outputs": [],
   "source": [
    "def deprocess_image(img):\n",
    "    \"\"\" see https://github.com/jacobgil/keras-grad-cam/blob/master/grad-cam.py#L65 \"\"\"\n",
    "    img = img - np.mean(img)\n",
    "    img = img / (np.std(img) + 1e-5)\n",
    "    img = img * 0.1\n",
    "    img = img + 0.5\n",
    "    img = np.clip(img, 0, 1)\n",
    "    return np.uint8(img * 255)"
   ]
  },
  {
   "cell_type": "code",
   "execution_count": 20,
   "metadata": {},
   "outputs": [
    {
     "name": "stdout",
     "output_type": "stream",
     "text": [
      "tensor([[-3.3484, -4.1967,  0.4781,  1.7515,  3.5684, -2.1709, -1.9212, -1.1570,\n",
      "         -2.5330,  0.1221]], device='cuda:0', grad_fn=<AddmmBackward0>)\n"
     ]
    }
   ],
   "source": [
    "input_img = torch.randn(1,3,224,224).to(device)\n",
    "out = net(input_img)\n",
    "print(out)"
   ]
  },
  {
   "cell_type": "code",
   "execution_count": 21,
   "metadata": {},
   "outputs": [
    {
     "data": {
      "text/plain": [
       "<torch.utils.hooks.RemovableHandle at 0x27b00247040>"
      ]
     },
     "execution_count": 21,
     "metadata": {},
     "output_type": "execute_result"
    }
   ],
   "source": [
    "# final conv layer name \n",
    "finalconv_name = 'conv1'\n",
    "\n",
    "# activations\n",
    "feature_blobs = []\n",
    "\n",
    "# gradients\n",
    "backward_feature = []\n",
    "\n",
    "# output으로 나오는 feature를 feature_blobs에 append하도록\n",
    "def hook_feature(module, input, output):\n",
    "    feature_blobs.append(output.cpu().data)\n",
    "    \n",
    "\n",
    "# Grad-CAM\n",
    "def backward_hook(module, input, output):\n",
    "    backward_feature.append(output[0])\n",
    "    \n",
    "\n",
    "net._modules.get(finalconv_name).register_forward_hook(hook_feature)\n",
    "net._modules.get(finalconv_name).register_backward_hook(backward_hook)"
   ]
  },
  {
   "cell_type": "code",
   "execution_count": 22,
   "metadata": {},
   "outputs": [
    {
     "name": "stdout",
     "output_type": "stream",
     "text": [
      "(10, 1000)\n",
      "torch.Size([1, 3, 224, 224])\n",
      "tensor([[ -2.5308, 103.0327, -41.2608, -33.9450, -59.1538, -37.3991, -22.7850,\n",
      "         -64.2246,   2.3438,  41.3301]], device='cuda:0',\n",
      "       grad_fn=<AddmmBackward0>)\n"
     ]
    },
    {
     "name": "stderr",
     "output_type": "stream",
     "text": [
      "c:\\Users\\mjy22\\anaconda3\\envs\\pytorch\\lib\\site-packages\\torch\\nn\\modules\\module.py:1053: UserWarning: Using a non-full backward hook when the forward contains multiple autograd Nodes is deprecated and will be removed in future versions. This hook will be missing some grad_input. Please use register_full_backward_hook to get the documented behavior.\n",
      "  warnings.warn(\"Using a non-full backward hook when the forward contains multiple autograd Nodes \"\n"
     ]
    }
   ],
   "source": [
    "# get the softmax weight\n",
    "params = list(net.parameters())\n",
    "weight_softmax = np.squeeze(params[-2].cpu().detach().numpy()) # [1000, 512]\n",
    "print(weight_softmax.shape)\n",
    "\n",
    "# Prediction\n",
    "print(normed_torch_img.shape)\n",
    "logit = net(normed_torch_img)\n",
    "print(logit)"
   ]
  },
  {
   "cell_type": "code",
   "execution_count": 23,
   "metadata": {},
   "outputs": [
    {
     "name": "stdout",
     "output_type": "stream",
     "text": [
      "tensor(-41.2608, device='cuda:0', grad_fn=<SqueezeBackward0>)\n"
     ]
    }
   ],
   "source": [
    "# ============================= #\n",
    "# ==== Grad-CAM main lines ==== #\n",
    "# ============================= #\n",
    "\n",
    "\n",
    "# Tabby Cat: 281, pug-dog: 254\n",
    "score = logit[:, 2].squeeze() # 예측값 y^c\n",
    "score.backward(retain_graph = True) # 예측값 y^c에 대해서 backprop 진행\n",
    "\n",
    "print(score)"
   ]
  },
  {
   "cell_type": "code",
   "execution_count": 24,
   "metadata": {},
   "outputs": [],
   "source": [
    "activations = feature_blobs[0].to(device) # (1, 512, 7, 7), forward activations\n",
    "gradients = backward_feature[0] # (1, 512, 7, 7), backward gradients\n",
    "b, k, u, v = gradients.size()\n",
    "\n",
    "alpha = gradients.view(b, k, -1).mean(2) # (1, 512, 7*7) => (1, 512), feature map k의 'importance'\n",
    "weights = alpha.view(b, k, 1, 1) # (1, 512, 1, 1)"
   ]
  },
  {
   "cell_type": "code",
   "execution_count": 25,
   "metadata": {},
   "outputs": [],
   "source": [
    "grad_cam_map = (weights*activations).sum(1, keepdim = True) # alpha * A^k = (1, 512, 7, 7) => (1, 1, 7, 7)\n",
    "grad_cam_map = F.relu(grad_cam_map) # Apply R e L U\n",
    "grad_cam_map = F.interpolate(grad_cam_map, size=(224, 224), mode='bilinear', align_corners=False) # (1, 1, 224, 224)\n",
    "map_min, map_max = grad_cam_map.min(), grad_cam_map.max()\n",
    "grad_cam_map = (grad_cam_map - map_min).div(map_max - map_min).data # (1, 1, 224, 224), min-max scaling"
   ]
  },
  {
   "cell_type": "code",
   "execution_count": 26,
   "metadata": {},
   "outputs": [
    {
     "name": "stdout",
     "output_type": "stream",
     "text": [
      "(224, 224, 3)\n"
     ]
    }
   ],
   "source": [
    "import cv2\n",
    "\n",
    "# grad_cam_map.squeeze() : (224, 224)\n",
    "grad_heatmap = cv2.applyColorMap(np.uint8(255 * grad_cam_map.squeeze().cpu()), cv2.COLORMAP_JET) # (224, 224, 3), numpy\n",
    "\n",
    "# Grad-CAM heatmap save\n",
    "cv2.imwrite(os.path.join(saved_loc, \"Grad_CAM_heatmap.jpg\"), grad_heatmap)\n",
    "\n",
    "grad_heatmap = np.float32(grad_heatmap) / 255\n",
    "print(grad_heatmap.shape)"
   ]
  },
  {
   "cell_type": "code",
   "execution_count": 27,
   "metadata": {},
   "outputs": [
    {
     "name": "stdout",
     "output_type": "stream",
     "text": [
      "torch.Size([1, 3, 224, 224])\n",
      "tensor([[[[2.2489, 2.2489, 2.2489,  ..., 2.2489, 2.2489, 2.2489],\n",
      "          [2.2489, 2.2489, 2.2489,  ..., 2.2489, 2.2489, 2.2489],\n",
      "          [2.2489, 2.2489, 2.2489,  ..., 2.2489, 2.2489, 2.2489],\n",
      "          ...,\n",
      "          [2.2489, 2.2489, 2.2489,  ..., 2.2489, 2.2489, 2.2489],\n",
      "          [2.2489, 2.2489, 2.2489,  ..., 2.2489, 2.2489, 2.2489],\n",
      "          [2.2489, 2.2489, 2.2489,  ..., 2.2489, 2.2489, 2.2489]],\n",
      "\n",
      "         [[2.4286, 2.4286, 2.4286,  ..., 2.4286, 2.4286, 2.4286],\n",
      "          [2.4286, 2.4286, 2.4286,  ..., 2.4286, 2.4286, 2.4286],\n",
      "          [2.4286, 2.4286, 2.4286,  ..., 2.4286, 2.4286, 2.4286],\n",
      "          ...,\n",
      "          [2.4286, 2.4286, 2.4286,  ..., 2.4286, 2.4286, 2.4286],\n",
      "          [2.4286, 2.4286, 2.4286,  ..., 2.4286, 2.4286, 2.4286],\n",
      "          [2.4286, 2.4286, 2.4286,  ..., 2.4286, 2.4286, 2.4286]],\n",
      "\n",
      "         [[2.6400, 2.6400, 2.6400,  ..., 2.6400, 2.6400, 2.6400],\n",
      "          [2.6400, 2.6400, 2.6400,  ..., 2.6400, 2.6400, 2.6400],\n",
      "          [2.6400, 2.6400, 2.6400,  ..., 2.6400, 2.6400, 2.6400],\n",
      "          ...,\n",
      "          [2.6400, 2.6400, 2.6400,  ..., 2.6400, 2.6400, 2.6400],\n",
      "          [2.6400, 2.6400, 2.6400,  ..., 2.6400, 2.6400, 2.6400],\n",
      "          [2.6400, 2.6400, 2.6400,  ..., 2.6400, 2.6400, 2.6400]]]],\n",
      "       device='cuda:0')\n"
     ]
    }
   ],
   "source": [
    "print(normed_torch_img.shape)\n",
    "print(normed_torch_img)"
   ]
  },
  {
   "cell_type": "code",
   "execution_count": 28,
   "metadata": {},
   "outputs": [
    {
     "name": "stdout",
     "output_type": "stream",
     "text": [
      "torch.Size([3, 224, 224])\n",
      "(224, 224, 3)\n"
     ]
    }
   ],
   "source": [
    "img = normed_torch_img.squeeze().cpu()\n",
    "print(img.shape)\n",
    "img = img.numpy().transpose((1, 2, 0))\n",
    "print(img.shape)\n",
    "\n",
    "#"
   ]
  },
  {
   "cell_type": "code",
   "execution_count": 29,
   "metadata": {},
   "outputs": [
    {
     "data": {
      "text/plain": [
       "True"
      ]
     },
     "execution_count": 29,
     "metadata": {},
     "output_type": "execute_result"
    }
   ],
   "source": [
    "# grad_cam_map.squeeze() : (224, 224)\n",
    "grad_heatmap = cv2.applyColorMap(np.uint8(255 * grad_cam_map.squeeze().cpu()), cv2.COLORMAP_JET) # (224, 224, 3), numpy\n",
    "\n",
    "# Grad-CAM heatmap save\n",
    "cv2.imwrite(os.path.join(saved_loc, \"Grad_CAM_heatmap.jpg\"), grad_heatmap)\n",
    "\n",
    "grad_heatmap = np.float32(grad_heatmap) / 255\n",
    "\n",
    "grad_result = grad_heatmap + img\n",
    "grad_result = grad_result / np.max(grad_result)\n",
    "grad_result = np.uint8(255 * grad_result)\n",
    "\n",
    "# Grad-CAM Result save\n",
    "cv2.imwrite(os.path.join(saved_loc, \"Grad_Result.jpg\"), grad_result)"
   ]
  },
  {
   "cell_type": "code",
   "execution_count": 30,
   "metadata": {},
   "outputs": [
    {
     "data": {
      "text/plain": [
       "Model(\n",
       "  (conv1): Sequential(\n",
       "    (0): Conv2d(3, 64, kernel_size=(3, 3), stride=(1, 1), padding=(1, 1))\n",
       "    (1): ReLU()\n",
       "    (2): Conv2d(64, 64, kernel_size=(3, 3), stride=(1, 1), padding=(1, 1))\n",
       "    (3): ReLU()\n",
       "    (4): MaxPool2d(kernel_size=2, stride=2, padding=0, dilation=1, ceil_mode=False)\n",
       "  )\n",
       "  (conv2): Sequential(\n",
       "    (0): Conv2d(64, 128, kernel_size=(3, 3), stride=(1, 1), padding=(1, 1))\n",
       "    (1): ReLU()\n",
       "    (2): Conv2d(128, 128, kernel_size=(3, 3), stride=(1, 1), padding=(1, 1))\n",
       "    (3): ReLU()\n",
       "    (4): MaxPool2d(kernel_size=2, stride=2, padding=0, dilation=1, ceil_mode=False)\n",
       "  )\n",
       "  (conv3): Sequential(\n",
       "    (0): Conv2d(128, 256, kernel_size=(3, 3), stride=(1, 1), padding=(1, 1))\n",
       "    (1): ReLU()\n",
       "    (2): Conv2d(256, 256, kernel_size=(3, 3), stride=(1, 1), padding=(1, 1))\n",
       "    (3): ReLU()\n",
       "    (4): Conv2d(256, 256, kernel_size=(3, 3), stride=(1, 1), padding=(1, 1))\n",
       "    (5): ReLU()\n",
       "    (6): MaxPool2d(kernel_size=2, stride=2, padding=0, dilation=1, ceil_mode=False)\n",
       "  )\n",
       "  (conv4): Sequential(\n",
       "    (0): Conv2d(256, 512, kernel_size=(3, 3), stride=(1, 1), padding=(1, 1))\n",
       "    (1): ReLU()\n",
       "    (2): Conv2d(512, 512, kernel_size=(3, 3), stride=(1, 1), padding=(1, 1))\n",
       "    (3): ReLU()\n",
       "    (4): Conv2d(512, 512, kernel_size=(3, 3), stride=(1, 1), padding=(1, 1))\n",
       "    (5): ReLU()\n",
       "    (6): MaxPool2d(kernel_size=2, stride=2, padding=0, dilation=1, ceil_mode=False)\n",
       "  )\n",
       "  (conv5): Sequential(\n",
       "    (0): Conv2d(512, 512, kernel_size=(3, 3), stride=(1, 1), padding=(1, 1))\n",
       "    (1): ReLU()\n",
       "    (2): Conv2d(512, 512, kernel_size=(3, 3), stride=(1, 1), padding=(1, 1))\n",
       "    (3): ReLU()\n",
       "    (4): Conv2d(512, 512, kernel_size=(3, 3), stride=(1, 1), padding=(1, 1))\n",
       "    (5): ReLU()\n",
       "    (6): MaxPool2d(kernel_size=2, stride=2, padding=0, dilation=1, ceil_mode=False)\n",
       "  )\n",
       "  (fc_layer): Sequential(\n",
       "    (0): Linear(in_features=25088, out_features=4096, bias=True)\n",
       "    (1): ReLU()\n",
       "    (2): Dropout(p=0.5, inplace=False)\n",
       "    (3): Linear(in_features=4096, out_features=4096, bias=True)\n",
       "    (4): ReLU()\n",
       "    (5): Dropout(p=0.5, inplace=False)\n",
       "    (6): Linear(in_features=4096, out_features=1000, bias=True)\n",
       "    (7): ReLU()\n",
       "    (8): Dropout(p=0.5, inplace=False)\n",
       "    (9): Linear(in_features=1000, out_features=10, bias=True)\n",
       "  )\n",
       ")"
      ]
     },
     "execution_count": 30,
     "metadata": {},
     "output_type": "execute_result"
    }
   ],
   "source": [
    "net.eval()"
   ]
  },
  {
   "cell_type": "code",
   "execution_count": 31,
   "metadata": {},
   "outputs": [
    {
     "data": {
      "text/plain": [
       "True"
      ]
     },
     "execution_count": 31,
     "metadata": {},
     "output_type": "execute_result"
    }
   ],
   "source": [
    "# ============================= #\n",
    "# ==Guided-Backprop main lines= #\n",
    "# ============================= #\n",
    "\n",
    "# gb_model => ReLU function in resnet50 change to GuidedBackpropReLU.\n",
    "gb_model = GuidedBackpropReLUModel(model=net, use_cuda=True)\n",
    "gb_num = gb_model(torch_img, target_category = 2)\n",
    "gb = deprocess_image(gb_num) # (224, 224, 3), numpy\n",
    "\n",
    "# Guided Backprop save\n",
    "cv2.imwrite(os.path.join(saved_loc, \"Guided_Backprop.jpg\"), gb)"
   ]
  },
  {
   "cell_type": "code",
   "execution_count": 32,
   "metadata": {},
   "outputs": [
    {
     "data": {
      "text/plain": [
       "True"
      ]
     },
     "execution_count": 32,
     "metadata": {},
     "output_type": "execute_result"
    }
   ],
   "source": [
    "# Guided-Backpropagation * Grad-CAM => Guided Grad-CAM \n",
    "# See Fig. 2 in paper.\n",
    "# grad_cam_map : (1, 1, 224, 224) , torch.Tensor\n",
    "grayscale_cam = grad_cam_map.squeeze(0).cpu().numpy() # (1, 224, 224), numpy\n",
    "grayscale_cam = grayscale_cam[0, :] # (224, 224)\n",
    "cam_mask = cv2.merge([grayscale_cam, grayscale_cam, grayscale_cam]) # (224, 224, 3)\n",
    "\n",
    "cam_gb = deprocess_image(cam_mask * gb_num)\n",
    "\n",
    "# Guided Grad-CAM save\n",
    "cv2.imwrite(os.path.join(saved_loc, \"Guided_Grad_CAM.jpg\"), cam_gb)"
   ]
  },
  {
   "cell_type": "code",
   "execution_count": 34,
   "metadata": {},
   "outputs": [
    {
     "ename": "error",
     "evalue": "OpenCV(4.6.0) D:\\a\\opencv-python\\opencv-python\\opencv\\modules\\core\\src\\matrix_operations.cpp:67: error: (-215:Assertion failed) src[i].dims <= 2 && src[i].rows == src[0].rows && src[i].type() == src[0].type() in function 'cv::hconcat'\n",
     "output_type": "error",
     "traceback": [
      "\u001b[1;31m---------------------------------------------------------------------------\u001b[0m",
      "\u001b[1;31merror\u001b[0m                                     Traceback (most recent call last)",
      "\u001b[1;32mc:\\Users\\mjy22\\Desktop\\ICCV_코드\\XAI\\CAM.ipynb 셀 25\u001b[0m in \u001b[0;36m<cell line: 8>\u001b[1;34m()\u001b[0m\n\u001b[0;32m      <a href='vscode-notebook-cell:/c%3A/Users/mjy22/Desktop/ICCV_%EC%BD%94%EB%93%9C/XAI/CAM.ipynb#Y103sZmlsZQ%3D%3D?line=3'>4</a>\u001b[0m G_Back \u001b[39m=\u001b[39m cv2\u001b[39m.\u001b[39mcvtColor(cv2\u001b[39m.\u001b[39mimread(os\u001b[39m.\u001b[39mpath\u001b[39m.\u001b[39mjoin(saved_loc, \u001b[39m\"\u001b[39m\u001b[39mGuided_Backprop.jpg\u001b[39m\u001b[39m\"\u001b[39m)), cv2\u001b[39m.\u001b[39mCOLOR_BGR2RGB)\n\u001b[0;32m      <a href='vscode-notebook-cell:/c%3A/Users/mjy22/Desktop/ICCV_%EC%BD%94%EB%93%9C/XAI/CAM.ipynb#Y103sZmlsZQ%3D%3D?line=4'>5</a>\u001b[0m G_CAM \u001b[39m=\u001b[39m cv2\u001b[39m.\u001b[39mcvtColor(cv2\u001b[39m.\u001b[39mimread(os\u001b[39m.\u001b[39mpath\u001b[39m.\u001b[39mjoin(saved_loc, \u001b[39m\"\u001b[39m\u001b[39mGuided_Grad_CAM.jpg\u001b[39m\u001b[39m\"\u001b[39m)), cv2\u001b[39m.\u001b[39mCOLOR_BGR2RGB)\n\u001b[1;32m----> <a href='vscode-notebook-cell:/c%3A/Users/mjy22/Desktop/ICCV_%EC%BD%94%EB%93%9C/XAI/CAM.ipynb#Y103sZmlsZQ%3D%3D?line=7'>8</a>\u001b[0m Total \u001b[39m=\u001b[39m cv2\u001b[39m.\u001b[39;49mhconcat([Original_image, G_heatmap, G_result, G_Back, G_CAM])\n\u001b[0;32m     <a href='vscode-notebook-cell:/c%3A/Users/mjy22/Desktop/ICCV_%EC%BD%94%EB%93%9C/XAI/CAM.ipynb#Y103sZmlsZQ%3D%3D?line=9'>10</a>\u001b[0m plt\u001b[39m.\u001b[39mrcParams[\u001b[39m\"\u001b[39m\u001b[39mfigure.figsize\u001b[39m\u001b[39m\"\u001b[39m] \u001b[39m=\u001b[39m (\u001b[39m20\u001b[39m, \u001b[39m4\u001b[39m)\n\u001b[0;32m     <a href='vscode-notebook-cell:/c%3A/Users/mjy22/Desktop/ICCV_%EC%BD%94%EB%93%9C/XAI/CAM.ipynb#Y103sZmlsZQ%3D%3D?line=10'>11</a>\u001b[0m plt\u001b[39m.\u001b[39mimshow(Total)\n",
      "\u001b[1;31merror\u001b[0m: OpenCV(4.6.0) D:\\a\\opencv-python\\opencv-python\\opencv\\modules\\core\\src\\matrix_operations.cpp:67: error: (-215:Assertion failed) src[i].dims <= 2 && src[i].rows == src[0].rows && src[i].type() == src[0].type() in function 'cv::hconcat'\n"
     ]
    }
   ],
   "source": [
    "Original_image = cv2.cvtColor(cv2.imread(os.path.join(img_dir, img_name)), cv2.COLOR_BGR2RGB)\n",
    "G_heatmap = cv2.cvtColor(cv2.imread(os.path.join(saved_loc, \"Grad_CAM_heatmap.jpg\")), cv2.COLOR_BGR2RGB)\n",
    "G_result = cv2.cvtColor(cv2.imread(os.path.join(saved_loc, \"Grad_Result.jpg\")), cv2.COLOR_BGR2RGB)\n",
    "G_Back = cv2.cvtColor(cv2.imread(os.path.join(saved_loc, \"Guided_Backprop.jpg\")), cv2.COLOR_BGR2RGB)\n",
    "G_CAM = cv2.cvtColor(cv2.imread(os.path.join(saved_loc, \"Guided_Grad_CAM.jpg\")), cv2.COLOR_BGR2RGB)\n",
    "\n",
    "\n",
    "Total = cv2.hconcat([Original_image, G_heatmap, G_result, G_Back, G_CAM])\n",
    "\n",
    "plt.rcParams[\"figure.figsize\"] = (20, 4)\n",
    "plt.imshow(Total)\n",
    "ax = plt.gca()\n",
    "ax.axes.xaxis.set_visible(False)\n",
    "ax.axes.yaxis.set_visible(False)\n",
    "plt.savefig(os.path.join(saved_loc, \"Final_result.jpg\"))\n",
    "plt.show()"
   ]
  },
  {
   "cell_type": "code",
   "execution_count": null,
   "metadata": {},
   "outputs": [
    {
     "ename": "ModuleNotFoundError",
     "evalue": "No module named 'cv2'",
     "output_type": "error",
     "traceback": [
      "\u001b[1;31m---------------------------------------------------------------------------\u001b[0m",
      "\u001b[1;31mModuleNotFoundError\u001b[0m                       Traceback (most recent call last)",
      "\u001b[1;32mc:\\Users\\mjy22\\Desktop\\ICCV_code\\XAI\\cam.ipynb 셀 26\u001b[0m in \u001b[0;36m<cell line: 3>\u001b[1;34m()\u001b[0m\n\u001b[0;32m      <a href='vscode-notebook-cell:/c%3A/Users/mjy22/Desktop/ICCV_code/XAI/cam.ipynb#X34sZmlsZQ%3D%3D?line=0'>1</a>\u001b[0m \u001b[39mimport\u001b[39;00m \u001b[39mos\u001b[39;00m \n\u001b[0;32m      <a href='vscode-notebook-cell:/c%3A/Users/mjy22/Desktop/ICCV_code/XAI/cam.ipynb#X34sZmlsZQ%3D%3D?line=1'>2</a>\u001b[0m \u001b[39mimport\u001b[39;00m \u001b[39mglob\u001b[39;00m \n\u001b[1;32m----> <a href='vscode-notebook-cell:/c%3A/Users/mjy22/Desktop/ICCV_code/XAI/cam.ipynb#X34sZmlsZQ%3D%3D?line=2'>3</a>\u001b[0m \u001b[39mimport\u001b[39;00m \u001b[39mcv2\u001b[39;00m\n\u001b[0;32m      <a href='vscode-notebook-cell:/c%3A/Users/mjy22/Desktop/ICCV_code/XAI/cam.ipynb#X34sZmlsZQ%3D%3D?line=4'>5</a>\u001b[0m Grad_Heatmap \u001b[39m=\u001b[39m cv2\u001b[39m.\u001b[39mcvtColor(cv2\u001b[39m.\u001b[39mimread(os\u001b[39m.\u001b[39mpath\u001b[39m.\u001b[39mjoin(\u001b[39m'\u001b[39m\u001b[39m./2022-10-04-17-52\u001b[39m\u001b[39m'\u001b[39m,\u001b[39m\"\u001b[39m\u001b[39mGrad_CAM_heatmap.jpg\u001b[39m\u001b[39m\"\u001b[39m)),cv2\u001b[39m.\u001b[39mCOLOR_BGR2RGB)\n",
      "\u001b[1;31mModuleNotFoundError\u001b[0m: No module named 'cv2'"
     ]
    }
   ],
   "source": [
    "import os \n",
    "import glob \n",
    "import cv2\n",
    "\n",
    "Grad_Heatmap = cv2.cvtColor(cv2.imread(os.path.join('./2022-10-04-17-52',\"Grad_CAM_heatmap.jpg\")),cv2.COLOR_BGR2RGB)"
   ]
  },
  {
   "cell_type": "code",
   "execution_count": null,
   "metadata": {},
   "outputs": [],
   "source": [
    "img = glob.glob('./alexnet_2022-10-20-11-01/Grad_CAM_heatmap.jpg')"
   ]
  },
  {
   "cell_type": "code",
   "execution_count": null,
   "metadata": {},
   "outputs": [],
   "source": []
  }
 ],
 "metadata": {
  "kernelspec": {
   "display_name": "Python 3.7.0 ('sim2real_env')",
   "language": "python",
   "name": "python3"
  },
  "language_info": {
   "codemirror_mode": {
    "name": "ipython",
    "version": 3
   },
   "file_extension": ".py",
   "mimetype": "text/x-python",
   "name": "python",
   "nbconvert_exporter": "python",
   "pygments_lexer": "ipython3",
   "version": "3.7.0"
  },
  "orig_nbformat": 4,
  "vscode": {
   "interpreter": {
    "hash": "48260036d4efb5a470a526bdfc14075af9fd64ae6fa2d15d4f5959a6859155ac"
   }
  }
 },
 "nbformat": 4,
 "nbformat_minor": 2
}
